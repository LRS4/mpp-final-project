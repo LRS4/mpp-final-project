{
 "cells": [
  {
   "cell_type": "code",
   "execution_count": 19,
   "metadata": {},
   "outputs": [],
   "source": [
    "import numpy as np\n",
    "import pandas as pd\n",
    "import matplotlib.pyplot as plt\n",
    "import seaborn as sns\n",
    "% matplotlib inline"
   ]
  },
  {
   "cell_type": "code",
   "execution_count": 20,
   "metadata": {},
   "outputs": [],
   "source": [
    "train_values = pd.read_csv(\"train_values.csv\")\n",
    "train_labels = pd.read_csv(\"train_labels.csv\")"
   ]
  },
  {
   "cell_type": "code",
   "execution_count": 21,
   "metadata": {},
   "outputs": [
    {
     "data": {
      "text/html": [
       "<div>\n",
       "<style scoped>\n",
       "    .dataframe tbody tr th:only-of-type {\n",
       "        vertical-align: middle;\n",
       "    }\n",
       "\n",
       "    .dataframe tbody tr th {\n",
       "        vertical-align: top;\n",
       "    }\n",
       "\n",
       "    .dataframe thead th {\n",
       "        text-align: right;\n",
       "    }\n",
       "</style>\n",
       "<table border=\"1\" class=\"dataframe\">\n",
       "  <thead>\n",
       "    <tr style=\"text-align: right;\">\n",
       "      <th></th>\n",
       "      <th>row_id</th>\n",
       "      <th>loan_type</th>\n",
       "      <th>property_type</th>\n",
       "      <th>loan_purpose</th>\n",
       "      <th>occupancy</th>\n",
       "      <th>loan_amount</th>\n",
       "      <th>preapproval</th>\n",
       "      <th>msa_md</th>\n",
       "      <th>state_code</th>\n",
       "      <th>county_code</th>\n",
       "      <th>...</th>\n",
       "      <th>applicant_sex</th>\n",
       "      <th>applicant_income</th>\n",
       "      <th>population</th>\n",
       "      <th>minority_population_pct</th>\n",
       "      <th>ffiecmedian_family_income</th>\n",
       "      <th>tract_to_msa_md_income_pct</th>\n",
       "      <th>number_of_owner-occupied_units</th>\n",
       "      <th>number_of_1_to_4_family_units</th>\n",
       "      <th>lender</th>\n",
       "      <th>co_applicant</th>\n",
       "    </tr>\n",
       "  </thead>\n",
       "  <tbody>\n",
       "    <tr>\n",
       "      <th>0</th>\n",
       "      <td>0</td>\n",
       "      <td>3</td>\n",
       "      <td>1</td>\n",
       "      <td>1</td>\n",
       "      <td>1</td>\n",
       "      <td>70.0</td>\n",
       "      <td>3</td>\n",
       "      <td>18</td>\n",
       "      <td>37</td>\n",
       "      <td>246</td>\n",
       "      <td>...</td>\n",
       "      <td>1</td>\n",
       "      <td>24.0</td>\n",
       "      <td>6203.0</td>\n",
       "      <td>44.230</td>\n",
       "      <td>60588.0</td>\n",
       "      <td>50.933</td>\n",
       "      <td>716.0</td>\n",
       "      <td>2642.0</td>\n",
       "      <td>4536</td>\n",
       "      <td>False</td>\n",
       "    </tr>\n",
       "    <tr>\n",
       "      <th>1</th>\n",
       "      <td>1</td>\n",
       "      <td>1</td>\n",
       "      <td>1</td>\n",
       "      <td>3</td>\n",
       "      <td>1</td>\n",
       "      <td>178.0</td>\n",
       "      <td>3</td>\n",
       "      <td>369</td>\n",
       "      <td>52</td>\n",
       "      <td>299</td>\n",
       "      <td>...</td>\n",
       "      <td>1</td>\n",
       "      <td>57.0</td>\n",
       "      <td>5774.0</td>\n",
       "      <td>15.905</td>\n",
       "      <td>54821.0</td>\n",
       "      <td>100.000</td>\n",
       "      <td>1622.0</td>\n",
       "      <td>2108.0</td>\n",
       "      <td>2458</td>\n",
       "      <td>False</td>\n",
       "    </tr>\n",
       "    <tr>\n",
       "      <th>2</th>\n",
       "      <td>2</td>\n",
       "      <td>2</td>\n",
       "      <td>1</td>\n",
       "      <td>3</td>\n",
       "      <td>1</td>\n",
       "      <td>163.0</td>\n",
       "      <td>3</td>\n",
       "      <td>16</td>\n",
       "      <td>10</td>\n",
       "      <td>306</td>\n",
       "      <td>...</td>\n",
       "      <td>1</td>\n",
       "      <td>67.0</td>\n",
       "      <td>6094.0</td>\n",
       "      <td>61.270</td>\n",
       "      <td>67719.0</td>\n",
       "      <td>100.000</td>\n",
       "      <td>760.0</td>\n",
       "      <td>1048.0</td>\n",
       "      <td>5710</td>\n",
       "      <td>False</td>\n",
       "    </tr>\n",
       "    <tr>\n",
       "      <th>3</th>\n",
       "      <td>3</td>\n",
       "      <td>1</td>\n",
       "      <td>1</td>\n",
       "      <td>1</td>\n",
       "      <td>1</td>\n",
       "      <td>155.0</td>\n",
       "      <td>1</td>\n",
       "      <td>305</td>\n",
       "      <td>47</td>\n",
       "      <td>180</td>\n",
       "      <td>...</td>\n",
       "      <td>1</td>\n",
       "      <td>105.0</td>\n",
       "      <td>6667.0</td>\n",
       "      <td>6.246</td>\n",
       "      <td>78439.0</td>\n",
       "      <td>100.000</td>\n",
       "      <td>2025.0</td>\n",
       "      <td>2299.0</td>\n",
       "      <td>5888</td>\n",
       "      <td>True</td>\n",
       "    </tr>\n",
       "    <tr>\n",
       "      <th>4</th>\n",
       "      <td>4</td>\n",
       "      <td>1</td>\n",
       "      <td>1</td>\n",
       "      <td>1</td>\n",
       "      <td>1</td>\n",
       "      <td>305.0</td>\n",
       "      <td>3</td>\n",
       "      <td>24</td>\n",
       "      <td>37</td>\n",
       "      <td>20</td>\n",
       "      <td>...</td>\n",
       "      <td>2</td>\n",
       "      <td>71.0</td>\n",
       "      <td>6732.0</td>\n",
       "      <td>100.000</td>\n",
       "      <td>63075.0</td>\n",
       "      <td>82.200</td>\n",
       "      <td>1464.0</td>\n",
       "      <td>1847.0</td>\n",
       "      <td>289</td>\n",
       "      <td>False</td>\n",
       "    </tr>\n",
       "  </tbody>\n",
       "</table>\n",
       "<p>5 rows × 22 columns</p>\n",
       "</div>"
      ],
      "text/plain": [
       "   row_id  loan_type  property_type  loan_purpose  occupancy  loan_amount  \\\n",
       "0       0          3              1             1          1         70.0   \n",
       "1       1          1              1             3          1        178.0   \n",
       "2       2          2              1             3          1        163.0   \n",
       "3       3          1              1             1          1        155.0   \n",
       "4       4          1              1             1          1        305.0   \n",
       "\n",
       "   preapproval  msa_md  state_code  county_code      ...       applicant_sex  \\\n",
       "0            3      18          37          246      ...                   1   \n",
       "1            3     369          52          299      ...                   1   \n",
       "2            3      16          10          306      ...                   1   \n",
       "3            1     305          47          180      ...                   1   \n",
       "4            3      24          37           20      ...                   2   \n",
       "\n",
       "   applicant_income  population  minority_population_pct  \\\n",
       "0              24.0      6203.0                   44.230   \n",
       "1              57.0      5774.0                   15.905   \n",
       "2              67.0      6094.0                   61.270   \n",
       "3             105.0      6667.0                    6.246   \n",
       "4              71.0      6732.0                  100.000   \n",
       "\n",
       "   ffiecmedian_family_income  tract_to_msa_md_income_pct  \\\n",
       "0                    60588.0                      50.933   \n",
       "1                    54821.0                     100.000   \n",
       "2                    67719.0                     100.000   \n",
       "3                    78439.0                     100.000   \n",
       "4                    63075.0                      82.200   \n",
       "\n",
       "   number_of_owner-occupied_units  number_of_1_to_4_family_units  lender  \\\n",
       "0                           716.0                         2642.0    4536   \n",
       "1                          1622.0                         2108.0    2458   \n",
       "2                           760.0                         1048.0    5710   \n",
       "3                          2025.0                         2299.0    5888   \n",
       "4                          1464.0                         1847.0     289   \n",
       "\n",
       "   co_applicant  \n",
       "0         False  \n",
       "1         False  \n",
       "2         False  \n",
       "3          True  \n",
       "4         False  \n",
       "\n",
       "[5 rows x 22 columns]"
      ]
     },
     "execution_count": 21,
     "metadata": {},
     "output_type": "execute_result"
    }
   ],
   "source": [
    "train_values.head()"
   ]
  },
  {
   "cell_type": "code",
   "execution_count": 22,
   "metadata": {},
   "outputs": [
    {
     "data": {
      "text/html": [
       "<div>\n",
       "<style scoped>\n",
       "    .dataframe tbody tr th:only-of-type {\n",
       "        vertical-align: middle;\n",
       "    }\n",
       "\n",
       "    .dataframe tbody tr th {\n",
       "        vertical-align: top;\n",
       "    }\n",
       "\n",
       "    .dataframe thead th {\n",
       "        text-align: right;\n",
       "    }\n",
       "</style>\n",
       "<table border=\"1\" class=\"dataframe\">\n",
       "  <thead>\n",
       "    <tr style=\"text-align: right;\">\n",
       "      <th></th>\n",
       "      <th>row_id</th>\n",
       "      <th>accepted</th>\n",
       "    </tr>\n",
       "  </thead>\n",
       "  <tbody>\n",
       "    <tr>\n",
       "      <th>0</th>\n",
       "      <td>0</td>\n",
       "      <td>1</td>\n",
       "    </tr>\n",
       "  </tbody>\n",
       "</table>\n",
       "</div>"
      ],
      "text/plain": [
       "   row_id  accepted\n",
       "0       0         1"
      ]
     },
     "execution_count": 22,
     "metadata": {},
     "output_type": "execute_result"
    }
   ],
   "source": [
    "train_labels.head(1)"
   ]
  },
  {
   "cell_type": "code",
   "execution_count": 23,
   "metadata": {},
   "outputs": [
    {
     "data": {
      "text/html": [
       "<div>\n",
       "<style scoped>\n",
       "    .dataframe tbody tr th:only-of-type {\n",
       "        vertical-align: middle;\n",
       "    }\n",
       "\n",
       "    .dataframe tbody tr th {\n",
       "        vertical-align: top;\n",
       "    }\n",
       "\n",
       "    .dataframe thead th {\n",
       "        text-align: right;\n",
       "    }\n",
       "</style>\n",
       "<table border=\"1\" class=\"dataframe\">\n",
       "  <thead>\n",
       "    <tr style=\"text-align: right;\">\n",
       "      <th></th>\n",
       "      <th>row_id</th>\n",
       "      <th>loan_type</th>\n",
       "      <th>property_type</th>\n",
       "      <th>loan_purpose</th>\n",
       "      <th>occupancy</th>\n",
       "      <th>loan_amount</th>\n",
       "      <th>preapproval</th>\n",
       "      <th>msa_md</th>\n",
       "      <th>state_code</th>\n",
       "      <th>county_code</th>\n",
       "      <th>...</th>\n",
       "      <th>applicant_race</th>\n",
       "      <th>applicant_sex</th>\n",
       "      <th>applicant_income</th>\n",
       "      <th>population</th>\n",
       "      <th>minority_population_pct</th>\n",
       "      <th>ffiecmedian_family_income</th>\n",
       "      <th>tract_to_msa_md_income_pct</th>\n",
       "      <th>number_of_owner-occupied_units</th>\n",
       "      <th>number_of_1_to_4_family_units</th>\n",
       "      <th>lender</th>\n",
       "    </tr>\n",
       "  </thead>\n",
       "  <tbody>\n",
       "    <tr>\n",
       "      <th>count</th>\n",
       "      <td>500000.000000</td>\n",
       "      <td>500000.000000</td>\n",
       "      <td>500000.000000</td>\n",
       "      <td>500000.000000</td>\n",
       "      <td>500000.000000</td>\n",
       "      <td>500000.000000</td>\n",
       "      <td>500000.000000</td>\n",
       "      <td>500000.000000</td>\n",
       "      <td>500000.000000</td>\n",
       "      <td>500000.000000</td>\n",
       "      <td>...</td>\n",
       "      <td>500000.000000</td>\n",
       "      <td>500000.000000</td>\n",
       "      <td>460052.000000</td>\n",
       "      <td>477535.000000</td>\n",
       "      <td>477534.000000</td>\n",
       "      <td>477560.000000</td>\n",
       "      <td>477486.000000</td>\n",
       "      <td>477435.000000</td>\n",
       "      <td>477470.000000</td>\n",
       "      <td>500000.000000</td>\n",
       "    </tr>\n",
       "    <tr>\n",
       "      <th>mean</th>\n",
       "      <td>249999.500000</td>\n",
       "      <td>1.366276</td>\n",
       "      <td>1.047650</td>\n",
       "      <td>2.066810</td>\n",
       "      <td>1.109590</td>\n",
       "      <td>221.753158</td>\n",
       "      <td>2.764722</td>\n",
       "      <td>181.606972</td>\n",
       "      <td>23.726924</td>\n",
       "      <td>144.542062</td>\n",
       "      <td>...</td>\n",
       "      <td>4.786586</td>\n",
       "      <td>1.462374</td>\n",
       "      <td>102.389521</td>\n",
       "      <td>5416.833956</td>\n",
       "      <td>31.617310</td>\n",
       "      <td>69235.603298</td>\n",
       "      <td>91.832624</td>\n",
       "      <td>1427.718282</td>\n",
       "      <td>1886.147065</td>\n",
       "      <td>3720.121344</td>\n",
       "    </tr>\n",
       "    <tr>\n",
       "      <th>std</th>\n",
       "      <td>144337.711634</td>\n",
       "      <td>0.690555</td>\n",
       "      <td>0.231404</td>\n",
       "      <td>0.948371</td>\n",
       "      <td>0.326092</td>\n",
       "      <td>590.641648</td>\n",
       "      <td>0.543061</td>\n",
       "      <td>138.464169</td>\n",
       "      <td>15.982768</td>\n",
       "      <td>100.243612</td>\n",
       "      <td>...</td>\n",
       "      <td>1.024927</td>\n",
       "      <td>0.677685</td>\n",
       "      <td>153.534496</td>\n",
       "      <td>2728.144999</td>\n",
       "      <td>26.333938</td>\n",
       "      <td>14810.058791</td>\n",
       "      <td>14.210924</td>\n",
       "      <td>737.559511</td>\n",
       "      <td>914.123744</td>\n",
       "      <td>1838.313175</td>\n",
       "    </tr>\n",
       "    <tr>\n",
       "      <th>min</th>\n",
       "      <td>0.000000</td>\n",
       "      <td>1.000000</td>\n",
       "      <td>1.000000</td>\n",
       "      <td>1.000000</td>\n",
       "      <td>1.000000</td>\n",
       "      <td>1.000000</td>\n",
       "      <td>1.000000</td>\n",
       "      <td>-1.000000</td>\n",
       "      <td>-1.000000</td>\n",
       "      <td>-1.000000</td>\n",
       "      <td>...</td>\n",
       "      <td>1.000000</td>\n",
       "      <td>1.000000</td>\n",
       "      <td>1.000000</td>\n",
       "      <td>14.000000</td>\n",
       "      <td>0.534000</td>\n",
       "      <td>17858.000000</td>\n",
       "      <td>3.981000</td>\n",
       "      <td>4.000000</td>\n",
       "      <td>1.000000</td>\n",
       "      <td>0.000000</td>\n",
       "    </tr>\n",
       "    <tr>\n",
       "      <th>25%</th>\n",
       "      <td>124999.750000</td>\n",
       "      <td>1.000000</td>\n",
       "      <td>1.000000</td>\n",
       "      <td>1.000000</td>\n",
       "      <td>1.000000</td>\n",
       "      <td>93.000000</td>\n",
       "      <td>3.000000</td>\n",
       "      <td>25.000000</td>\n",
       "      <td>6.000000</td>\n",
       "      <td>57.000000</td>\n",
       "      <td>...</td>\n",
       "      <td>5.000000</td>\n",
       "      <td>1.000000</td>\n",
       "      <td>47.000000</td>\n",
       "      <td>3744.000000</td>\n",
       "      <td>10.700000</td>\n",
       "      <td>59731.000000</td>\n",
       "      <td>88.067250</td>\n",
       "      <td>944.000000</td>\n",
       "      <td>1301.000000</td>\n",
       "      <td>2442.000000</td>\n",
       "    </tr>\n",
       "    <tr>\n",
       "      <th>50%</th>\n",
       "      <td>249999.500000</td>\n",
       "      <td>1.000000</td>\n",
       "      <td>1.000000</td>\n",
       "      <td>2.000000</td>\n",
       "      <td>1.000000</td>\n",
       "      <td>162.000000</td>\n",
       "      <td>3.000000</td>\n",
       "      <td>192.000000</td>\n",
       "      <td>26.000000</td>\n",
       "      <td>131.000000</td>\n",
       "      <td>...</td>\n",
       "      <td>5.000000</td>\n",
       "      <td>1.000000</td>\n",
       "      <td>74.000000</td>\n",
       "      <td>4975.000000</td>\n",
       "      <td>22.901000</td>\n",
       "      <td>67526.000000</td>\n",
       "      <td>100.000000</td>\n",
       "      <td>1327.000000</td>\n",
       "      <td>1753.000000</td>\n",
       "      <td>3731.000000</td>\n",
       "    </tr>\n",
       "    <tr>\n",
       "      <th>75%</th>\n",
       "      <td>374999.250000</td>\n",
       "      <td>2.000000</td>\n",
       "      <td>1.000000</td>\n",
       "      <td>3.000000</td>\n",
       "      <td>1.000000</td>\n",
       "      <td>266.000000</td>\n",
       "      <td>3.000000</td>\n",
       "      <td>314.000000</td>\n",
       "      <td>37.000000</td>\n",
       "      <td>246.000000</td>\n",
       "      <td>...</td>\n",
       "      <td>5.000000</td>\n",
       "      <td>2.000000</td>\n",
       "      <td>117.000000</td>\n",
       "      <td>6467.000000</td>\n",
       "      <td>46.020000</td>\n",
       "      <td>75351.000000</td>\n",
       "      <td>100.000000</td>\n",
       "      <td>1780.000000</td>\n",
       "      <td>2309.000000</td>\n",
       "      <td>5436.000000</td>\n",
       "    </tr>\n",
       "    <tr>\n",
       "      <th>max</th>\n",
       "      <td>499999.000000</td>\n",
       "      <td>4.000000</td>\n",
       "      <td>3.000000</td>\n",
       "      <td>3.000000</td>\n",
       "      <td>3.000000</td>\n",
       "      <td>100878.000000</td>\n",
       "      <td>3.000000</td>\n",
       "      <td>408.000000</td>\n",
       "      <td>52.000000</td>\n",
       "      <td>324.000000</td>\n",
       "      <td>...</td>\n",
       "      <td>7.000000</td>\n",
       "      <td>4.000000</td>\n",
       "      <td>10139.000000</td>\n",
       "      <td>37097.000000</td>\n",
       "      <td>100.000000</td>\n",
       "      <td>125248.000000</td>\n",
       "      <td>100.000000</td>\n",
       "      <td>8771.000000</td>\n",
       "      <td>13623.000000</td>\n",
       "      <td>6508.000000</td>\n",
       "    </tr>\n",
       "  </tbody>\n",
       "</table>\n",
       "<p>8 rows × 21 columns</p>\n",
       "</div>"
      ],
      "text/plain": [
       "              row_id      loan_type  property_type   loan_purpose  \\\n",
       "count  500000.000000  500000.000000  500000.000000  500000.000000   \n",
       "mean   249999.500000       1.366276       1.047650       2.066810   \n",
       "std    144337.711634       0.690555       0.231404       0.948371   \n",
       "min         0.000000       1.000000       1.000000       1.000000   \n",
       "25%    124999.750000       1.000000       1.000000       1.000000   \n",
       "50%    249999.500000       1.000000       1.000000       2.000000   \n",
       "75%    374999.250000       2.000000       1.000000       3.000000   \n",
       "max    499999.000000       4.000000       3.000000       3.000000   \n",
       "\n",
       "           occupancy    loan_amount    preapproval         msa_md  \\\n",
       "count  500000.000000  500000.000000  500000.000000  500000.000000   \n",
       "mean        1.109590     221.753158       2.764722     181.606972   \n",
       "std         0.326092     590.641648       0.543061     138.464169   \n",
       "min         1.000000       1.000000       1.000000      -1.000000   \n",
       "25%         1.000000      93.000000       3.000000      25.000000   \n",
       "50%         1.000000     162.000000       3.000000     192.000000   \n",
       "75%         1.000000     266.000000       3.000000     314.000000   \n",
       "max         3.000000  100878.000000       3.000000     408.000000   \n",
       "\n",
       "          state_code    county_code      ...        applicant_race  \\\n",
       "count  500000.000000  500000.000000      ...         500000.000000   \n",
       "mean       23.726924     144.542062      ...              4.786586   \n",
       "std        15.982768     100.243612      ...              1.024927   \n",
       "min        -1.000000      -1.000000      ...              1.000000   \n",
       "25%         6.000000      57.000000      ...              5.000000   \n",
       "50%        26.000000     131.000000      ...              5.000000   \n",
       "75%        37.000000     246.000000      ...              5.000000   \n",
       "max        52.000000     324.000000      ...              7.000000   \n",
       "\n",
       "       applicant_sex  applicant_income     population  \\\n",
       "count  500000.000000     460052.000000  477535.000000   \n",
       "mean        1.462374        102.389521    5416.833956   \n",
       "std         0.677685        153.534496    2728.144999   \n",
       "min         1.000000          1.000000      14.000000   \n",
       "25%         1.000000         47.000000    3744.000000   \n",
       "50%         1.000000         74.000000    4975.000000   \n",
       "75%         2.000000        117.000000    6467.000000   \n",
       "max         4.000000      10139.000000   37097.000000   \n",
       "\n",
       "       minority_population_pct  ffiecmedian_family_income  \\\n",
       "count            477534.000000              477560.000000   \n",
       "mean                 31.617310               69235.603298   \n",
       "std                  26.333938               14810.058791   \n",
       "min                   0.534000               17858.000000   \n",
       "25%                  10.700000               59731.000000   \n",
       "50%                  22.901000               67526.000000   \n",
       "75%                  46.020000               75351.000000   \n",
       "max                 100.000000              125248.000000   \n",
       "\n",
       "       tract_to_msa_md_income_pct  number_of_owner-occupied_units  \\\n",
       "count               477486.000000                   477435.000000   \n",
       "mean                    91.832624                     1427.718282   \n",
       "std                     14.210924                      737.559511   \n",
       "min                      3.981000                        4.000000   \n",
       "25%                     88.067250                      944.000000   \n",
       "50%                    100.000000                     1327.000000   \n",
       "75%                    100.000000                     1780.000000   \n",
       "max                    100.000000                     8771.000000   \n",
       "\n",
       "       number_of_1_to_4_family_units         lender  \n",
       "count                  477470.000000  500000.000000  \n",
       "mean                     1886.147065    3720.121344  \n",
       "std                       914.123744    1838.313175  \n",
       "min                         1.000000       0.000000  \n",
       "25%                      1301.000000    2442.000000  \n",
       "50%                      1753.000000    3731.000000  \n",
       "75%                      2309.000000    5436.000000  \n",
       "max                     13623.000000    6508.000000  \n",
       "\n",
       "[8 rows x 21 columns]"
      ]
     },
     "execution_count": 23,
     "metadata": {},
     "output_type": "execute_result"
    }
   ],
   "source": [
    "train_values.describe()"
   ]
  },
  {
   "cell_type": "code",
   "execution_count": 24,
   "metadata": {},
   "outputs": [],
   "source": [
    "train_values['accepted'] = train_labels['accepted']"
   ]
  },
  {
   "cell_type": "code",
   "execution_count": 25,
   "metadata": {},
   "outputs": [
    {
     "data": {
      "image/png": "[encoded data removed]",
      "text/plain": [
       "<Figure size 1080x432 with 1 Axes>"
      ]
     },
     "metadata": {},
     "output_type": "display_data"
    }
   ],
   "source": [
    "fig, ax = plt.subplots(figsize = (15,6))\n",
    "ax.set_title(\"Accepted vs Declined Applications\")\n",
    "sns.countplot(x=\"accepted\", data=train_values, palette=\"Blues\", ax=ax);"
   ]
  },
  {
   "cell_type": "code",
   "execution_count": 26,
   "metadata": {},
   "outputs": [
    {
     "data": {
      "image/png": "[encoded data removed]",
      "text/plain": [
       "<Figure size 1080x432 with 2 Axes>"
      ]
     },
     "metadata": {},
     "output_type": "display_data"
    }
   ],
   "source": [
    "fig, ax = plt.subplots(1,2, figsize = (15,6))\n",
    "ax[0].set_title(\"Property Type Count\")\n",
    "ax[1].set_title(\"Property Type vs Accepted\")\n",
    "sns.countplot(x=\"property_type\", data=train_values, palette=\"Blues\", ax = ax[0]);\n",
    "sns.barplot(x='property_type', y='accepted', data=train_values, palette=\"Greens\", ax=ax[1]);"
   ]
  },
  {
   "cell_type": "code",
   "execution_count": 27,
   "metadata": {},
   "outputs": [
    {
     "data": {
      "image/png": "[encoded data removed]",
      "text/plain": [
       "<Figure size 1080x432 with 2 Axes>"
      ]
     },
     "metadata": {},
     "output_type": "display_data"
    }
   ],
   "source": [
    "fig, ax = plt.subplots(1,2, figsize = (15,6))\n",
    "ax[0].set_title(\"Loan Purpose Count\")\n",
    "ax[1].set_title(\"Loan Purpose vs Accepted\")\n",
    "sns.countplot(x=\"loan_purpose\", data=train_values, palette=\"Blues\", ax = ax[0]);\n",
    "sns.barplot(x='loan_purpose', y='accepted', data=train_values, palette=\"Greens\", ax=ax[1]);"
   ]
  },
  {
   "cell_type": "code",
   "execution_count": 28,
   "metadata": {},
   "outputs": [
    {
     "data": {
      "image/png": "[encoded data removed]",
      "text/plain": [
       "<Figure size 1080x432 with 2 Axes>"
      ]
     },
     "metadata": {},
     "output_type": "display_data"
    }
   ],
   "source": [
    "fig, ax = plt.subplots(1,2, figsize = (15,6))\n",
    "ax[0].set_title(\"Loan Type Count\")\n",
    "ax[1].set_title(\"Loan Type vs Accepted\")\n",
    "sns.countplot(x=\"loan_type\", data=train_values, palette=\"Blues\", ax = ax[0]);\n",
    "sns.barplot(x='loan_type', y='accepted', data=train_values, palette=\"Greens\", ax=ax[1]);"
   ]
  },
  {
   "cell_type": "code",
   "execution_count": 29,
   "metadata": {},
   "outputs": [
    {
     "data": {
      "image/png": "[encoded data removed]",
      "text/plain": [
       "<Figure size 1080x432 with 2 Axes>"
      ]
     },
     "metadata": {},
     "output_type": "display_data"
    }
   ],
   "source": [
    "fig, ax = plt.subplots(1,2, figsize = (15,6))\n",
    "ax[0].set_title(\"Occupancy Count\")\n",
    "ax[1].set_title(\"Occupancy vs Accepted\")\n",
    "sns.countplot(x=\"occupancy\", data=train_values, palette=\"Blues\", ax = ax[0]);\n",
    "sns.barplot(x='occupancy', y='accepted', data=train_values, palette=\"Greens\", ax=ax[1]);"
   ]
  },
  {
   "cell_type": "code",
   "execution_count": 30,
   "metadata": {},
   "outputs": [
    {
     "data": {
      "image/png": "[encoded data removed]",
      "text/plain": [
       "<Figure size 1080x432 with 2 Axes>"
      ]
     },
     "metadata": {},
     "output_type": "display_data"
    }
   ],
   "source": [
    "fig, ax = plt.subplots(1,2, figsize = (15,6))\n",
    "ax[0].set_title(\"Pre-approval Count\")\n",
    "ax[1].set_title(\"Pre-approval vs Accepted\")\n",
    "sns.countplot(x=\"preapproval\", data=train_values, palette=\"Blues\", ax = ax[0]);\n",
    "sns.barplot(x='preapproval', y='accepted', data=train_values, palette=\"Greens\", ax=ax[1]);"
   ]
  },
  {
   "cell_type": "code",
   "execution_count": 31,
   "metadata": {},
   "outputs": [
    {
     "data": {
      "image/png": "[encoded data removed]",
      "text/plain": [
       "<Figure size 1080x432 with 2 Axes>"
      ]
     },
     "metadata": {},
     "output_type": "display_data"
    }
   ],
   "source": [
    "fig, ax = plt.subplots(1,2, figsize = (15,6))\n",
    "ax[0].set_title(\"Applicant Sex Count\")\n",
    "ax[1].set_title(\"Sex vs Accepted\")\n",
    "sns.countplot(x=\"applicant_sex\", data=train_values, palette=\"Blues\", ax = ax[0]);\n",
    "sns.barplot(x='applicant_sex', y='accepted', data=train_values, palette=\"Greens\", ax=ax[1]);"
   ]
  },
  {
   "cell_type": "code",
   "execution_count": 32,
   "metadata": {},
   "outputs": [
    {
     "data": {
      "image/png": "[encoded data removed]",
      "text/plain": [
       "<Figure size 1080x432 with 2 Axes>"
      ]
     },
     "metadata": {},
     "output_type": "display_data"
    }
   ],
   "source": [
    "fig, ax = plt.subplots(1,2, figsize = (15,6))\n",
    "ax[0].set_title(\"Coapplicant Count\")\n",
    "ax[1].set_title(\"Coapplicant vs Accepted\")\n",
    "sns.countplot(x=\"co_applicant\", data=train_values, palette=\"Blues\", ax = ax[0]);\n",
    "sns.barplot(x='co_applicant', y='accepted', data=train_values, palette=\"Greens\", ax=ax[1]);"
   ]
  },
  {
   "cell_type": "code",
   "execution_count": 33,
   "metadata": {},
   "outputs": [
    {
     "data": {
      "image/png": "[encoded data removed]",
      "text/plain": [
       "<Figure size 1080x432 with 2 Axes>"
      ]
     },
     "metadata": {},
     "output_type": "display_data"
    }
   ],
   "source": [
    "fig, ax = plt.subplots(1,2, figsize = (15,6))\n",
    "ax[0].set_title(\"Applicant Race Count\")\n",
    "ax[1].set_title(\"Race vs Accepted\")\n",
    "sns.countplot(x=\"applicant_race\", data=train_values, palette=\"Blues\", ax = ax[0]);\n",
    "sns.barplot(x='applicant_race', y='accepted', data=train_values, palette=\"Greens\", ax=ax[1]);"
   ]
  },
  {
   "cell_type": "code",
   "execution_count": 34,
   "metadata": {},
   "outputs": [],
   "source": [
    "train_values.applicant_income.fillna(train_values.applicant_income.mode()[0], inplace=True)"
   ]
  },
  {
   "cell_type": "code",
   "execution_count": 35,
   "metadata": {},
   "outputs": [
    {
     "data": {
      "image/png": "[encoded data removed]",
      "text/plain": [
       "<Figure size 1080x432 with 2 Axes>"
      ]
     },
     "metadata": {},
     "output_type": "display_data"
    }
   ],
   "source": [
    "fx, axes = plt.subplots(1,2,figsize=(15,6))\n",
    "train_values.applicant_income.hist(grid=False, bins=4, range=(0,2000), ax=axes[0], color=\"DarkBlue\").set_title(\"Applicant Income\")\n",
    "\n",
    "approved = train_values[train_values.accepted == 1].applicant_income\n",
    "declined = train_values[train_values.accepted == 0].applicant_income\n",
    "\n",
    "axes[1].hist([approved, declined], bins=10, range=(0, 1500), label=['Approved', 'Declined'], color=['Green', 'lightgreen'])\n",
    "axes[1].legend()\n",
    "plt.show()"
   ]
  },
  {
   "cell_type": "code",
   "execution_count": 36,
   "metadata": {},
   "outputs": [
    {
     "ename": "AttributeError",
     "evalue": "'tuple' object has no attribute 'set_title'",
     "output_type": "error",
     "traceback": [
      "\u001b[1;31m---------------------------------------------------------------------------\u001b[0m",
      "\u001b[1;31mAttributeError\u001b[0m                            Traceback (most recent call last)",
      "\u001b[1;32m<ipython-input-36-2a9d3bbde34a>\u001b[0m in \u001b[0;36m<module>\u001b[1;34m()\u001b[0m\n\u001b[0;32m      5\u001b[0m \u001b[0mdeclined\u001b[0m \u001b[1;33m=\u001b[0m \u001b[0mtrain_values\u001b[0m\u001b[1;33m[\u001b[0m\u001b[0mtrain_values\u001b[0m\u001b[1;33m.\u001b[0m\u001b[0maccepted\u001b[0m \u001b[1;33m==\u001b[0m \u001b[1;36m0\u001b[0m\u001b[1;33m]\u001b[0m\u001b[1;33m.\u001b[0m\u001b[0mloan_amount\u001b[0m\u001b[1;33m\u001b[0m\u001b[0m\n\u001b[0;32m      6\u001b[0m \u001b[1;33m\u001b[0m\u001b[0m\n\u001b[1;32m----> 7\u001b[1;33m \u001b[0maxes\u001b[0m\u001b[1;33m[\u001b[0m\u001b[1;36m1\u001b[0m\u001b[1;33m]\u001b[0m\u001b[1;33m.\u001b[0m\u001b[0mhist\u001b[0m\u001b[1;33m(\u001b[0m\u001b[1;33m[\u001b[0m\u001b[0mapproved\u001b[0m\u001b[1;33m,\u001b[0m \u001b[0mdeclined\u001b[0m\u001b[1;33m]\u001b[0m\u001b[1;33m,\u001b[0m \u001b[0mbins\u001b[0m\u001b[1;33m=\u001b[0m\u001b[1;36m10\u001b[0m\u001b[1;33m,\u001b[0m \u001b[0mrange\u001b[0m\u001b[1;33m=\u001b[0m\u001b[1;33m(\u001b[0m\u001b[1;36m0\u001b[0m\u001b[1;33m,\u001b[0m \u001b[1;36m1000\u001b[0m\u001b[1;33m)\u001b[0m\u001b[1;33m,\u001b[0m \u001b[0mlabel\u001b[0m\u001b[1;33m=\u001b[0m\u001b[1;33m[\u001b[0m\u001b[1;34m'Approved'\u001b[0m\u001b[1;33m,\u001b[0m \u001b[1;34m'Declined'\u001b[0m\u001b[1;33m]\u001b[0m\u001b[1;33m,\u001b[0m \u001b[0mcolor\u001b[0m\u001b[1;33m=\u001b[0m\u001b[1;33m[\u001b[0m\u001b[1;34m'Green'\u001b[0m\u001b[1;33m,\u001b[0m \u001b[1;34m'lightgreen'\u001b[0m\u001b[1;33m]\u001b[0m\u001b[1;33m)\u001b[0m\u001b[1;33m.\u001b[0m\u001b[0mset_title\u001b[0m\u001b[1;33m(\u001b[0m\u001b[1;34m\"Loan Amount vs Accepted\"\u001b[0m\u001b[1;33m)\u001b[0m\u001b[1;33m\u001b[0m\u001b[0m\n\u001b[0m\u001b[0;32m      8\u001b[0m \u001b[0maxes\u001b[0m\u001b[1;33m[\u001b[0m\u001b[1;36m1\u001b[0m\u001b[1;33m]\u001b[0m\u001b[1;33m.\u001b[0m\u001b[0mlegend\u001b[0m\u001b[1;33m(\u001b[0m\u001b[1;33m)\u001b[0m\u001b[1;33m\u001b[0m\u001b[0m\n\u001b[0;32m      9\u001b[0m \u001b[0mplt\u001b[0m\u001b[1;33m.\u001b[0m\u001b[0mshow\u001b[0m\u001b[1;33m(\u001b[0m\u001b[1;33m)\u001b[0m\u001b[1;33m\u001b[0m\u001b[0m\n",
      "\u001b[1;31mAttributeError\u001b[0m: 'tuple' object has no attribute 'set_title'"
     ]
    },
    {
     "data": {
      "image/png": "[encoded data removed]",
      "text/plain": [
       "<Figure size 1080x432 with 2 Axes>"
      ]
     },
     "metadata": {},
     "output_type": "display_data"
    }
   ],
   "source": [
    "fx, axes = plt.subplots(1,2,figsize=(15,6))\n",
    "train_values.loan_amount.hist(grid=False, bins=10, range=(0,1000), ax=axes[0], color=\"DarkBlue\").set_title(\"Loan Amount\")\n",
    "\n",
    "approved = train_values[train_values.accepted == 1].loan_amount\n",
    "declined = train_values[train_values.accepted == 0].loan_amount\n",
    "\n",
    "axes[1].hist([approved, declined], bins=10, range=(0, 1000), label=['Approved', 'Declined'], color=['Green', 'lightgreen']).set_title(\"Loan Amount vs Accepted\")\n",
    "axes[1].legend()\n",
    "plt.show()"
   ]
  },
  {
   "cell_type": "code",
   "execution_count": null,
   "metadata": {},
   "outputs": [],
   "source": [
    "fig, ax = plt.subplots(1,2, figsize = (15,6))\n",
    "ax[0].set_title(\"\")\n",
    "ax[1].set_title(\"\")\n",
    "sns.barplot(x='co_applicant', y='accepted', data=train_values, palette=\"Greens\", ax=ax[0]);\n",
    "sns.barplot(x='occupancy', y='accepted', data=train_values, palette=\"Greens\", ax=ax[1]);"
   ]
  },
  {
   "cell_type": "code",
   "execution_count": null,
   "metadata": {},
   "outputs": [],
   "source": [
    "x = train_values[['state_code', 'county_code', 'accepted']]\n",
    "x = x.loc[x['state_code'] == 48]"
   ]
  },
  {
   "cell_type": "code",
   "execution_count": null,
   "metadata": {},
   "outputs": [],
   "source": [
    "state = train_values[['state_code', 'loan_type', 'accepted']]\n",
    "y = state.loc[state['state_code'] == 4]\n",
    "z = state.loc[state['state_code'] == 2]"
   ]
  },
  {
   "cell_type": "code",
   "execution_count": null,
   "metadata": {},
   "outputs": [],
   "source": [
    "sns.lineplot(x='county_code', y='accepted', data=x, palette=\"Greens\");"
   ]
  },
  {
   "cell_type": "code",
   "execution_count": null,
   "metadata": {},
   "outputs": [],
   "source": [
    "fig, ax = plt.subplots(1,2, figsize = (15,6))\n",
    "ax[0].set_title(\"State 4\")\n",
    "ax[1].set_title(\"State 2\")\n",
    "sns.barplot(x='loan_type', y='accepted', data=y, palette=\"Greens\", ax=ax[0]);\n",
    "sns.barplot(x='loan_type', y='accepted', data=z, palette=\"Greens\", ax=ax[1]);"
   ]
  },
  {
   "cell_type": "code",
   "execution_count": null,
   "metadata": {},
   "outputs": [],
   "source": [
    "train_values['income_band'] = train_values['applicant_income'].apply(lambda value: ('low' if value <= 2534 else 'medium') if value <= 7605 else 'high')\n",
    "train_values['income_band'] = pd.Categorical(train_values['income_band'], categories=['low', 'medium', 'high'])"
   ]
  },
  {
   "cell_type": "code",
   "execution_count": null,
   "metadata": {},
   "outputs": [],
   "source": [
    "fig, ax = plt.subplots(1,2, figsize = (15,6))\n",
    "ax[0].set_title(\"Income Banding\")\n",
    "ax[1].set_title(\"Accepted by Income Banding\")\n",
    "sns.countplot(x=\"income_band\", data=train_values, palette=\"Blues\", ax = ax[0]);\n",
    "sns.barplot(x='income_band', y='accepted', data=train_values, palette=\"Greens\", ax=ax[1]);"
   ]
  },
  {
   "cell_type": "code",
   "execution_count": null,
   "metadata": {},
   "outputs": [],
   "source": [
    "train_values.describe()"
   ]
  },
  {
   "cell_type": "code",
   "execution_count": null,
   "metadata": {},
   "outputs": [],
   "source": [
    "train_values.fillna(train_values.median(), inplace=True)"
   ]
  },
  {
   "cell_type": "code",
   "execution_count": null,
   "metadata": {},
   "outputs": [],
   "source": [
    "train_values['family_income'] = train_values['ffiecmedian_family_income'].apply(lambda value: ('low' if value <= 30000.00 else 'medium') if value <= 90000.00 else 'high')\n",
    "train_values['family_income'] = pd.Categorical(train_values['family_income'], categories=['low', 'medium', 'high'])"
   ]
  },
  {
   "cell_type": "code",
   "execution_count": null,
   "metadata": {},
   "outputs": [],
   "source": [
    "fig, ax = plt.subplots(1,2, figsize = (15,6))\n",
    "ax[0].set_title(\"family_income\")\n",
    "ax[1].set_title(\"Accepted by family_income\")\n",
    "sns.countplot(x=\"family_income\", data=train_values, palette=\"Blues\", ax = ax[0]);\n",
    "sns.barplot(x='family_income', y='accepted', data=train_values, palette=\"Greens\", ax=ax[1]);"
   ]
  },
  {
   "cell_type": "code",
   "execution_count": null,
   "metadata": {},
   "outputs": [],
   "source": [
    "train_values['population_level'] = train_values['population'].apply(lambda value: ('low' if value <= 2728 else 'medium') if value <= 10000 else 'high')\n",
    "train_values['population_level'] = pd.Categorical(train_values['population_level'], categories=['low', 'medium', 'high'])"
   ]
  },
  {
   "cell_type": "code",
   "execution_count": null,
   "metadata": {},
   "outputs": [],
   "source": [
    "fig, ax = plt.subplots(1,2, figsize = (15,6))\n",
    "ax[0].set_title(\"population_level\")\n",
    "ax[1].set_title(\"Accepted by population_level\")\n",
    "sns.countplot(x=\"population_level\", data=train_values, palette=\"Blues\", ax = ax[0]);\n",
    "sns.barplot(x='population_level', y='accepted', data=train_values, palette=\"Greens\", ax=ax[1]);"
   ]
  },
  {
   "cell_type": "code",
   "execution_count": null,
   "metadata": {},
   "outputs": [],
   "source": [
    "train_values['family_units'] = train_values['number_of_1_to_4_family_units'].apply(lambda value: ('low' if value <= 1700 else 'medium') if value <= 10000 else 'high')\n",
    "train_values['family_units'] = pd.Categorical(train_values['family_units'], categories=['low', 'medium', 'high'])"
   ]
  },
  {
   "cell_type": "code",
   "execution_count": null,
   "metadata": {},
   "outputs": [],
   "source": [
    "fig, ax = plt.subplots(1,2, figsize = (15,6))\n",
    "ax[0].set_title(\"family_units\")\n",
    "ax[1].set_title(\"Accepted by family_units\")\n",
    "sns.countplot(x=\"family_units\", data=train_values, palette=\"Blues\", ax = ax[0]);\n",
    "sns.barplot(x='family_units', y='accepted', data=train_values, palette=\"Greens\", ax=ax[1]);"
   ]
  },
  {
   "cell_type": "code",
   "execution_count": null,
   "metadata": {},
   "outputs": [],
   "source": [
    "train_values['owner_occ_units'] = train_values['number_of_owner-occupied_units'].apply(lambda value: ('low' if value <= 1000 else 'medium') if value <= 4500 else 'high')\n",
    "train_values['owner_occ_units'] = pd.Categorical(train_values['owner_occ_units'], categories=['low', 'medium', 'high'])"
   ]
  },
  {
   "cell_type": "code",
   "execution_count": null,
   "metadata": {},
   "outputs": [],
   "source": [
    "fig, ax = plt.subplots(1,2, figsize = (15,6))\n",
    "ax[0].set_title(\"owner_occ_units\")\n",
    "ax[1].set_title(\"Accepted by owner_occ_units\")\n",
    "sns.countplot(x=\"owner_occ_units\", data=train_values, palette=\"Blues\", ax = ax[0]);\n",
    "sns.barplot(x='owner_occ_units', y='accepted', data=train_values, palette=\"Greens\", ax=ax[1]);"
   ]
  },
  {
   "cell_type": "code",
   "execution_count": null,
   "metadata": {},
   "outputs": [],
   "source": [
    "train_values['income_band'] = train_values['applicant_income'].apply(lambda value: ('low' if value <= 40 else 'medium') if value <= 150 else 'high')\n",
    "train_values['income_band'] = pd.Categorical(train_values['income_band'], categories=['low', 'medium', 'high'])"
   ]
  },
  {
   "cell_type": "code",
   "execution_count": null,
   "metadata": {},
   "outputs": [],
   "source": [
    "fig, ax = plt.subplots(1,2, figsize = (15,6))\n",
    "ax[0].set_title(\"income_band\")\n",
    "ax[1].set_title(\"Accepted by income_band\")\n",
    "sns.countplot(x=\"income_band\", data=train_values, palette=\"Blues\", ax = ax[0]);\n",
    "sns.barplot(x='income_band', y='accepted', data=train_values, palette=\"Greens\", ax=ax[1]);"
   ]
  },
  {
   "cell_type": "code",
   "execution_count": null,
   "metadata": {},
   "outputs": [],
   "source": [
    "fig, ax = plt.subplots(1,2, figsize = (15,6))\n",
    "ax[0].set_title(\"lender\")\n",
    "ax[1].set_title(\"lender\")\n",
    "sns.countplot(x=\"lender\", data=train_values, palette=\"Blues\", ax = ax[0]);\n",
    "sns.barplot(x='lender', y='accepted', data=train_values, palette=\"Greens\", ax=ax[1]);"
   ]
  },
  {
   "cell_type": "code",
   "execution_count": null,
   "metadata": {},
   "outputs": [],
   "source": []
  }
 ],
 "metadata": {
  "kernelspec": {
   "display_name": "Python 3",
   "language": "python",
   "name": "python3"
  },
  "language_info": {
   "codemirror_mode": {
    "name": "ipython",
    "version": 3
   },
   "file_extension": ".py",
   "mimetype": "text/x-python",
   "name": "python",
   "nbconvert_exporter": "python",
   "pygments_lexer": "ipython3",
   "version": "3.6.5"
  }
 },
 "nbformat": 4,
 "nbformat_minor": 2
}
