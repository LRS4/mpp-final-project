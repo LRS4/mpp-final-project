{
 "cells": [
  {
   "cell_type": "markdown",
   "metadata": {},
   "source": [
    "### Import Data"
   ]
  },
  {
   "cell_type": "code",
   "execution_count": 1,
   "metadata": {},
   "outputs": [],
   "source": [
    "import numpy as np\n",
    "import pandas as pd\n",
    "import matplotlib.pyplot as plt\n",
    "import seaborn as sns\n",
    "from sklearn.metrics import accuracy_score, confusion_matrix\n",
    "from sklearn.ensemble import RandomForestClassifier\n",
    "from sklearn import svm, tree\n",
    "import xgboost\n",
    "from sklearn.model_selection import train_test_split\n",
    "\n",
    "train = pd.read_csv(\"train_values.csv\")\n",
    "y_labels = pd.read_csv(\"train_labels.csv\")\n",
    "train['accepted'] = y_labels['accepted']"
   ]
  },
  {
   "cell_type": "markdown",
   "metadata": {},
   "source": [
    "### Handle Missing Values"
   ]
  },
  {
   "cell_type": "code",
   "execution_count": 2,
   "metadata": {},
   "outputs": [
    {
     "data": {
      "text/html": [
       "<div>\n",
       "<style scoped>\n",
       "    .dataframe tbody tr th:only-of-type {\n",
       "        vertical-align: middle;\n",
       "    }\n",
       "\n",
       "    .dataframe tbody tr th {\n",
       "        vertical-align: top;\n",
       "    }\n",
       "\n",
       "    .dataframe thead th {\n",
       "        text-align: right;\n",
       "    }\n",
       "</style>\n",
       "<table border=\"1\" class=\"dataframe\">\n",
       "  <thead>\n",
       "    <tr style=\"text-align: right;\">\n",
       "      <th></th>\n",
       "      <th>row_id</th>\n",
       "      <th>loan_type</th>\n",
       "      <th>property_type</th>\n",
       "      <th>loan_purpose</th>\n",
       "      <th>occupancy</th>\n",
       "      <th>loan_amount</th>\n",
       "      <th>preapproval</th>\n",
       "      <th>msa_md</th>\n",
       "      <th>state_code</th>\n",
       "      <th>county_code</th>\n",
       "      <th>...</th>\n",
       "      <th>applicant_sex</th>\n",
       "      <th>applicant_income</th>\n",
       "      <th>population</th>\n",
       "      <th>minority_population_pct</th>\n",
       "      <th>ffiecmedian_family_income</th>\n",
       "      <th>tract_to_msa_md_income_pct</th>\n",
       "      <th>number_of_owner-occupied_units</th>\n",
       "      <th>number_of_1_to_4_family_units</th>\n",
       "      <th>lender</th>\n",
       "      <th>accepted</th>\n",
       "    </tr>\n",
       "  </thead>\n",
       "  <tbody>\n",
       "    <tr>\n",
       "      <th>count</th>\n",
       "      <td>500000.000000</td>\n",
       "      <td>500000.000000</td>\n",
       "      <td>500000.000000</td>\n",
       "      <td>500000.000000</td>\n",
       "      <td>500000.000000</td>\n",
       "      <td>500000.000000</td>\n",
       "      <td>500000.000000</td>\n",
       "      <td>500000.000000</td>\n",
       "      <td>500000.000000</td>\n",
       "      <td>500000.000000</td>\n",
       "      <td>...</td>\n",
       "      <td>500000.000000</td>\n",
       "      <td>500000.000000</td>\n",
       "      <td>500000.000000</td>\n",
       "      <td>500000.000000</td>\n",
       "      <td>500000.000000</td>\n",
       "      <td>500000.000000</td>\n",
       "      <td>500000.000000</td>\n",
       "      <td>500000.000000</td>\n",
       "      <td>500000.000000</td>\n",
       "      <td>500000.000000</td>\n",
       "    </tr>\n",
       "    <tr>\n",
       "      <th>mean</th>\n",
       "      <td>249999.500000</td>\n",
       "      <td>1.366276</td>\n",
       "      <td>1.047650</td>\n",
       "      <td>2.066810</td>\n",
       "      <td>1.109590</td>\n",
       "      <td>221.753158</td>\n",
       "      <td>2.764722</td>\n",
       "      <td>181.606972</td>\n",
       "      <td>23.726924</td>\n",
       "      <td>144.542062</td>\n",
       "      <td>...</td>\n",
       "      <td>1.462374</td>\n",
       "      <td>100.121312</td>\n",
       "      <td>5396.982356</td>\n",
       "      <td>31.225669</td>\n",
       "      <td>69158.876302</td>\n",
       "      <td>92.200385</td>\n",
       "      <td>1423.172866</td>\n",
       "      <td>1880.147458</td>\n",
       "      <td>3720.121344</td>\n",
       "      <td>0.500228</td>\n",
       "    </tr>\n",
       "    <tr>\n",
       "      <th>std</th>\n",
       "      <td>144337.711634</td>\n",
       "      <td>0.690555</td>\n",
       "      <td>0.231404</td>\n",
       "      <td>0.948371</td>\n",
       "      <td>0.326092</td>\n",
       "      <td>590.641648</td>\n",
       "      <td>0.543061</td>\n",
       "      <td>138.464169</td>\n",
       "      <td>15.982768</td>\n",
       "      <td>100.243612</td>\n",
       "      <td>...</td>\n",
       "      <td>0.677685</td>\n",
       "      <td>147.474440</td>\n",
       "      <td>2667.723303</td>\n",
       "      <td>25.798784</td>\n",
       "      <td>14478.232811</td>\n",
       "      <td>13.990187</td>\n",
       "      <td>721.027517</td>\n",
       "      <td>893.717989</td>\n",
       "      <td>1838.313175</td>\n",
       "      <td>0.500000</td>\n",
       "    </tr>\n",
       "    <tr>\n",
       "      <th>min</th>\n",
       "      <td>0.000000</td>\n",
       "      <td>1.000000</td>\n",
       "      <td>1.000000</td>\n",
       "      <td>1.000000</td>\n",
       "      <td>1.000000</td>\n",
       "      <td>1.000000</td>\n",
       "      <td>1.000000</td>\n",
       "      <td>-1.000000</td>\n",
       "      <td>-1.000000</td>\n",
       "      <td>-1.000000</td>\n",
       "      <td>...</td>\n",
       "      <td>1.000000</td>\n",
       "      <td>1.000000</td>\n",
       "      <td>14.000000</td>\n",
       "      <td>0.534000</td>\n",
       "      <td>17858.000000</td>\n",
       "      <td>3.981000</td>\n",
       "      <td>4.000000</td>\n",
       "      <td>1.000000</td>\n",
       "      <td>0.000000</td>\n",
       "      <td>0.000000</td>\n",
       "    </tr>\n",
       "    <tr>\n",
       "      <th>25%</th>\n",
       "      <td>124999.750000</td>\n",
       "      <td>1.000000</td>\n",
       "      <td>1.000000</td>\n",
       "      <td>1.000000</td>\n",
       "      <td>1.000000</td>\n",
       "      <td>93.000000</td>\n",
       "      <td>3.000000</td>\n",
       "      <td>25.000000</td>\n",
       "      <td>6.000000</td>\n",
       "      <td>57.000000</td>\n",
       "      <td>...</td>\n",
       "      <td>1.000000</td>\n",
       "      <td>49.000000</td>\n",
       "      <td>3805.000000</td>\n",
       "      <td>11.191000</td>\n",
       "      <td>60071.000000</td>\n",
       "      <td>89.145000</td>\n",
       "      <td>963.000000</td>\n",
       "      <td>1323.000000</td>\n",
       "      <td>2442.000000</td>\n",
       "      <td>0.000000</td>\n",
       "    </tr>\n",
       "    <tr>\n",
       "      <th>50%</th>\n",
       "      <td>249999.500000</td>\n",
       "      <td>1.000000</td>\n",
       "      <td>1.000000</td>\n",
       "      <td>2.000000</td>\n",
       "      <td>1.000000</td>\n",
       "      <td>162.000000</td>\n",
       "      <td>3.000000</td>\n",
       "      <td>192.000000</td>\n",
       "      <td>26.000000</td>\n",
       "      <td>131.000000</td>\n",
       "      <td>...</td>\n",
       "      <td>1.000000</td>\n",
       "      <td>74.000000</td>\n",
       "      <td>4975.000000</td>\n",
       "      <td>22.901000</td>\n",
       "      <td>67526.000000</td>\n",
       "      <td>100.000000</td>\n",
       "      <td>1327.000000</td>\n",
       "      <td>1753.000000</td>\n",
       "      <td>3731.000000</td>\n",
       "      <td>1.000000</td>\n",
       "    </tr>\n",
       "    <tr>\n",
       "      <th>75%</th>\n",
       "      <td>374999.250000</td>\n",
       "      <td>2.000000</td>\n",
       "      <td>1.000000</td>\n",
       "      <td>3.000000</td>\n",
       "      <td>1.000000</td>\n",
       "      <td>266.000000</td>\n",
       "      <td>3.000000</td>\n",
       "      <td>314.000000</td>\n",
       "      <td>37.000000</td>\n",
       "      <td>246.000000</td>\n",
       "      <td>...</td>\n",
       "      <td>2.000000</td>\n",
       "      <td>112.000000</td>\n",
       "      <td>6379.000000</td>\n",
       "      <td>44.486000</td>\n",
       "      <td>74714.250000</td>\n",
       "      <td>100.000000</td>\n",
       "      <td>1754.000000</td>\n",
       "      <td>2275.000000</td>\n",
       "      <td>5436.000000</td>\n",
       "      <td>1.000000</td>\n",
       "    </tr>\n",
       "    <tr>\n",
       "      <th>max</th>\n",
       "      <td>499999.000000</td>\n",
       "      <td>4.000000</td>\n",
       "      <td>3.000000</td>\n",
       "      <td>3.000000</td>\n",
       "      <td>3.000000</td>\n",
       "      <td>100878.000000</td>\n",
       "      <td>3.000000</td>\n",
       "      <td>408.000000</td>\n",
       "      <td>52.000000</td>\n",
       "      <td>324.000000</td>\n",
       "      <td>...</td>\n",
       "      <td>4.000000</td>\n",
       "      <td>10139.000000</td>\n",
       "      <td>37097.000000</td>\n",
       "      <td>100.000000</td>\n",
       "      <td>125248.000000</td>\n",
       "      <td>100.000000</td>\n",
       "      <td>8771.000000</td>\n",
       "      <td>13623.000000</td>\n",
       "      <td>6508.000000</td>\n",
       "      <td>1.000000</td>\n",
       "    </tr>\n",
       "  </tbody>\n",
       "</table>\n",
       "<p>8 rows × 22 columns</p>\n",
       "</div>"
      ],
      "text/plain": [
       "              row_id      loan_type  property_type   loan_purpose  \\\n",
       "count  500000.000000  500000.000000  500000.000000  500000.000000   \n",
       "mean   249999.500000       1.366276       1.047650       2.066810   \n",
       "std    144337.711634       0.690555       0.231404       0.948371   \n",
       "min         0.000000       1.000000       1.000000       1.000000   \n",
       "25%    124999.750000       1.000000       1.000000       1.000000   \n",
       "50%    249999.500000       1.000000       1.000000       2.000000   \n",
       "75%    374999.250000       2.000000       1.000000       3.000000   \n",
       "max    499999.000000       4.000000       3.000000       3.000000   \n",
       "\n",
       "           occupancy    loan_amount    preapproval         msa_md  \\\n",
       "count  500000.000000  500000.000000  500000.000000  500000.000000   \n",
       "mean        1.109590     221.753158       2.764722     181.606972   \n",
       "std         0.326092     590.641648       0.543061     138.464169   \n",
       "min         1.000000       1.000000       1.000000      -1.000000   \n",
       "25%         1.000000      93.000000       3.000000      25.000000   \n",
       "50%         1.000000     162.000000       3.000000     192.000000   \n",
       "75%         1.000000     266.000000       3.000000     314.000000   \n",
       "max         3.000000  100878.000000       3.000000     408.000000   \n",
       "\n",
       "          state_code    county_code      ...        applicant_sex  \\\n",
       "count  500000.000000  500000.000000      ...        500000.000000   \n",
       "mean       23.726924     144.542062      ...             1.462374   \n",
       "std        15.982768     100.243612      ...             0.677685   \n",
       "min        -1.000000      -1.000000      ...             1.000000   \n",
       "25%         6.000000      57.000000      ...             1.000000   \n",
       "50%        26.000000     131.000000      ...             1.000000   \n",
       "75%        37.000000     246.000000      ...             2.000000   \n",
       "max        52.000000     324.000000      ...             4.000000   \n",
       "\n",
       "       applicant_income     population  minority_population_pct  \\\n",
       "count     500000.000000  500000.000000            500000.000000   \n",
       "mean         100.121312    5396.982356                31.225669   \n",
       "std          147.474440    2667.723303                25.798784   \n",
       "min            1.000000      14.000000                 0.534000   \n",
       "25%           49.000000    3805.000000                11.191000   \n",
       "50%           74.000000    4975.000000                22.901000   \n",
       "75%          112.000000    6379.000000                44.486000   \n",
       "max        10139.000000   37097.000000               100.000000   \n",
       "\n",
       "       ffiecmedian_family_income  tract_to_msa_md_income_pct  \\\n",
       "count              500000.000000               500000.000000   \n",
       "mean                69158.876302                   92.200385   \n",
       "std                 14478.232811                   13.990187   \n",
       "min                 17858.000000                    3.981000   \n",
       "25%                 60071.000000                   89.145000   \n",
       "50%                 67526.000000                  100.000000   \n",
       "75%                 74714.250000                  100.000000   \n",
       "max                125248.000000                  100.000000   \n",
       "\n",
       "       number_of_owner-occupied_units  number_of_1_to_4_family_units  \\\n",
       "count                   500000.000000                  500000.000000   \n",
       "mean                      1423.172866                    1880.147458   \n",
       "std                        721.027517                     893.717989   \n",
       "min                          4.000000                       1.000000   \n",
       "25%                        963.000000                    1323.000000   \n",
       "50%                       1327.000000                    1753.000000   \n",
       "75%                       1754.000000                    2275.000000   \n",
       "max                       8771.000000                   13623.000000   \n",
       "\n",
       "              lender       accepted  \n",
       "count  500000.000000  500000.000000  \n",
       "mean     3720.121344       0.500228  \n",
       "std      1838.313175       0.500000  \n",
       "min         0.000000       0.000000  \n",
       "25%      2442.000000       0.000000  \n",
       "50%      3731.000000       1.000000  \n",
       "75%      5436.000000       1.000000  \n",
       "max      6508.000000       1.000000  \n",
       "\n",
       "[8 rows x 22 columns]"
      ]
     },
     "execution_count": 2,
     "metadata": {},
     "output_type": "execute_result"
    }
   ],
   "source": [
    "train.fillna(train.median(), inplace=True)\n",
    "train.describe()"
   ]
  },
  {
   "cell_type": "markdown",
   "metadata": {},
   "source": [
    "### Feature Engineering"
   ]
  },
  {
   "cell_type": "code",
   "execution_count": 3,
   "metadata": {},
   "outputs": [],
   "source": [
    "# add loan_income_ratio\n",
    "train['loan_income_ratio'] = train['loan_amount'] / train['applicant_income']"
   ]
  },
  {
   "cell_type": "code",
   "execution_count": 4,
   "metadata": {},
   "outputs": [
    {
     "data": {
      "text/html": [
       "<div>\n",
       "<style scoped>\n",
       "    .dataframe tbody tr th:only-of-type {\n",
       "        vertical-align: middle;\n",
       "    }\n",
       "\n",
       "    .dataframe tbody tr th {\n",
       "        vertical-align: top;\n",
       "    }\n",
       "\n",
       "    .dataframe thead th {\n",
       "        text-align: right;\n",
       "    }\n",
       "</style>\n",
       "<table border=\"1\" class=\"dataframe\">\n",
       "  <thead>\n",
       "    <tr style=\"text-align: right;\">\n",
       "      <th></th>\n",
       "      <th>row_id</th>\n",
       "      <th>loan_type</th>\n",
       "      <th>property_type</th>\n",
       "      <th>loan_purpose</th>\n",
       "      <th>occupancy</th>\n",
       "      <th>loan_amount</th>\n",
       "      <th>preapproval</th>\n",
       "      <th>msa_md</th>\n",
       "      <th>state_code</th>\n",
       "      <th>county_code</th>\n",
       "      <th>...</th>\n",
       "      <th>population</th>\n",
       "      <th>minority_population_pct</th>\n",
       "      <th>ffiecmedian_family_income</th>\n",
       "      <th>tract_to_msa_md_income_pct</th>\n",
       "      <th>number_of_owner-occupied_units</th>\n",
       "      <th>number_of_1_to_4_family_units</th>\n",
       "      <th>lender</th>\n",
       "      <th>co_applicant</th>\n",
       "      <th>accepted</th>\n",
       "      <th>loan_income_ratio</th>\n",
       "    </tr>\n",
       "  </thead>\n",
       "  <tbody>\n",
       "    <tr>\n",
       "      <th>0</th>\n",
       "      <td>0</td>\n",
       "      <td>3</td>\n",
       "      <td>1</td>\n",
       "      <td>1</td>\n",
       "      <td>1</td>\n",
       "      <td>70.0</td>\n",
       "      <td>3</td>\n",
       "      <td>18</td>\n",
       "      <td>37</td>\n",
       "      <td>246</td>\n",
       "      <td>...</td>\n",
       "      <td>6203.0</td>\n",
       "      <td>44.23</td>\n",
       "      <td>60588.0</td>\n",
       "      <td>50.933</td>\n",
       "      <td>716.0</td>\n",
       "      <td>2642.0</td>\n",
       "      <td>4536</td>\n",
       "      <td>False</td>\n",
       "      <td>1</td>\n",
       "      <td>2.916667</td>\n",
       "    </tr>\n",
       "  </tbody>\n",
       "</table>\n",
       "<p>1 rows × 24 columns</p>\n",
       "</div>"
      ],
      "text/plain": [
       "   row_id  loan_type  property_type  loan_purpose  occupancy  loan_amount  \\\n",
       "0       0          3              1             1          1         70.0   \n",
       "\n",
       "   preapproval  msa_md  state_code  county_code        ...          \\\n",
       "0            3      18          37          246        ...           \n",
       "\n",
       "   population  minority_population_pct  ffiecmedian_family_income  \\\n",
       "0      6203.0                    44.23                    60588.0   \n",
       "\n",
       "   tract_to_msa_md_income_pct  number_of_owner-occupied_units  \\\n",
       "0                      50.933                           716.0   \n",
       "\n",
       "   number_of_1_to_4_family_units  lender  co_applicant  accepted  \\\n",
       "0                         2642.0    4536         False         1   \n",
       "\n",
       "   loan_income_ratio  \n",
       "0           2.916667  \n",
       "\n",
       "[1 rows x 24 columns]"
      ]
     },
     "execution_count": 4,
     "metadata": {},
     "output_type": "execute_result"
    }
   ],
   "source": [
    "train.head(1)"
   ]
  },
  {
   "cell_type": "markdown",
   "metadata": {},
   "source": [
    "### Encoding"
   ]
  },
  {
   "cell_type": "code",
   "execution_count": 5,
   "metadata": {},
   "outputs": [
    {
     "data": {
      "text/html": [
       "<div>\n",
       "<style scoped>\n",
       "    .dataframe tbody tr th:only-of-type {\n",
       "        vertical-align: middle;\n",
       "    }\n",
       "\n",
       "    .dataframe tbody tr th {\n",
       "        vertical-align: top;\n",
       "    }\n",
       "\n",
       "    .dataframe thead th {\n",
       "        text-align: right;\n",
       "    }\n",
       "</style>\n",
       "<table border=\"1\" class=\"dataframe\">\n",
       "  <thead>\n",
       "    <tr style=\"text-align: right;\">\n",
       "      <th></th>\n",
       "      <th>row_id</th>\n",
       "      <th>loan_type</th>\n",
       "      <th>property_type</th>\n",
       "      <th>loan_purpose</th>\n",
       "      <th>occupancy</th>\n",
       "      <th>loan_amount</th>\n",
       "      <th>preapproval</th>\n",
       "      <th>msa_md</th>\n",
       "      <th>state_code</th>\n",
       "      <th>county_code</th>\n",
       "      <th>...</th>\n",
       "      <th>population</th>\n",
       "      <th>minority_population_pct</th>\n",
       "      <th>ffiecmedian_family_income</th>\n",
       "      <th>tract_to_msa_md_income_pct</th>\n",
       "      <th>number_of_owner-occupied_units</th>\n",
       "      <th>number_of_1_to_4_family_units</th>\n",
       "      <th>lender</th>\n",
       "      <th>co_applicant</th>\n",
       "      <th>accepted</th>\n",
       "      <th>loan_income_ratio</th>\n",
       "    </tr>\n",
       "  </thead>\n",
       "  <tbody>\n",
       "    <tr>\n",
       "      <th>0</th>\n",
       "      <td>0</td>\n",
       "      <td>3</td>\n",
       "      <td>1</td>\n",
       "      <td>1</td>\n",
       "      <td>1</td>\n",
       "      <td>70.0</td>\n",
       "      <td>3</td>\n",
       "      <td>18</td>\n",
       "      <td>37</td>\n",
       "      <td>246</td>\n",
       "      <td>...</td>\n",
       "      <td>6203.0</td>\n",
       "      <td>44.230</td>\n",
       "      <td>60588.0</td>\n",
       "      <td>50.933</td>\n",
       "      <td>716.0</td>\n",
       "      <td>2642.0</td>\n",
       "      <td>4536</td>\n",
       "      <td>0</td>\n",
       "      <td>1</td>\n",
       "      <td>2.916667</td>\n",
       "    </tr>\n",
       "    <tr>\n",
       "      <th>1</th>\n",
       "      <td>1</td>\n",
       "      <td>1</td>\n",
       "      <td>1</td>\n",
       "      <td>3</td>\n",
       "      <td>1</td>\n",
       "      <td>178.0</td>\n",
       "      <td>3</td>\n",
       "      <td>369</td>\n",
       "      <td>52</td>\n",
       "      <td>299</td>\n",
       "      <td>...</td>\n",
       "      <td>5774.0</td>\n",
       "      <td>15.905</td>\n",
       "      <td>54821.0</td>\n",
       "      <td>100.000</td>\n",
       "      <td>1622.0</td>\n",
       "      <td>2108.0</td>\n",
       "      <td>2458</td>\n",
       "      <td>0</td>\n",
       "      <td>0</td>\n",
       "      <td>3.122807</td>\n",
       "    </tr>\n",
       "    <tr>\n",
       "      <th>2</th>\n",
       "      <td>2</td>\n",
       "      <td>2</td>\n",
       "      <td>1</td>\n",
       "      <td>3</td>\n",
       "      <td>1</td>\n",
       "      <td>163.0</td>\n",
       "      <td>3</td>\n",
       "      <td>16</td>\n",
       "      <td>10</td>\n",
       "      <td>306</td>\n",
       "      <td>...</td>\n",
       "      <td>6094.0</td>\n",
       "      <td>61.270</td>\n",
       "      <td>67719.0</td>\n",
       "      <td>100.000</td>\n",
       "      <td>760.0</td>\n",
       "      <td>1048.0</td>\n",
       "      <td>5710</td>\n",
       "      <td>0</td>\n",
       "      <td>1</td>\n",
       "      <td>2.432836</td>\n",
       "    </tr>\n",
       "    <tr>\n",
       "      <th>3</th>\n",
       "      <td>3</td>\n",
       "      <td>1</td>\n",
       "      <td>1</td>\n",
       "      <td>1</td>\n",
       "      <td>1</td>\n",
       "      <td>155.0</td>\n",
       "      <td>1</td>\n",
       "      <td>305</td>\n",
       "      <td>47</td>\n",
       "      <td>180</td>\n",
       "      <td>...</td>\n",
       "      <td>6667.0</td>\n",
       "      <td>6.246</td>\n",
       "      <td>78439.0</td>\n",
       "      <td>100.000</td>\n",
       "      <td>2025.0</td>\n",
       "      <td>2299.0</td>\n",
       "      <td>5888</td>\n",
       "      <td>1</td>\n",
       "      <td>1</td>\n",
       "      <td>1.476190</td>\n",
       "    </tr>\n",
       "    <tr>\n",
       "      <th>4</th>\n",
       "      <td>4</td>\n",
       "      <td>1</td>\n",
       "      <td>1</td>\n",
       "      <td>1</td>\n",
       "      <td>1</td>\n",
       "      <td>305.0</td>\n",
       "      <td>3</td>\n",
       "      <td>24</td>\n",
       "      <td>37</td>\n",
       "      <td>20</td>\n",
       "      <td>...</td>\n",
       "      <td>6732.0</td>\n",
       "      <td>100.000</td>\n",
       "      <td>63075.0</td>\n",
       "      <td>82.200</td>\n",
       "      <td>1464.0</td>\n",
       "      <td>1847.0</td>\n",
       "      <td>289</td>\n",
       "      <td>0</td>\n",
       "      <td>1</td>\n",
       "      <td>4.295775</td>\n",
       "    </tr>\n",
       "  </tbody>\n",
       "</table>\n",
       "<p>5 rows × 24 columns</p>\n",
       "</div>"
      ],
      "text/plain": [
       "   row_id  loan_type  property_type  loan_purpose  occupancy  loan_amount  \\\n",
       "0       0          3              1             1          1         70.0   \n",
       "1       1          1              1             3          1        178.0   \n",
       "2       2          2              1             3          1        163.0   \n",
       "3       3          1              1             1          1        155.0   \n",
       "4       4          1              1             1          1        305.0   \n",
       "\n",
       "   preapproval  msa_md  state_code  county_code        ...          \\\n",
       "0            3      18          37          246        ...           \n",
       "1            3     369          52          299        ...           \n",
       "2            3      16          10          306        ...           \n",
       "3            1     305          47          180        ...           \n",
       "4            3      24          37           20        ...           \n",
       "\n",
       "   population  minority_population_pct  ffiecmedian_family_income  \\\n",
       "0      6203.0                   44.230                    60588.0   \n",
       "1      5774.0                   15.905                    54821.0   \n",
       "2      6094.0                   61.270                    67719.0   \n",
       "3      6667.0                    6.246                    78439.0   \n",
       "4      6732.0                  100.000                    63075.0   \n",
       "\n",
       "   tract_to_msa_md_income_pct  number_of_owner-occupied_units  \\\n",
       "0                      50.933                           716.0   \n",
       "1                     100.000                          1622.0   \n",
       "2                     100.000                           760.0   \n",
       "3                     100.000                          2025.0   \n",
       "4                      82.200                          1464.0   \n",
       "\n",
       "   number_of_1_to_4_family_units  lender  co_applicant  accepted  \\\n",
       "0                         2642.0    4536             0         1   \n",
       "1                         2108.0    2458             0         0   \n",
       "2                         1048.0    5710             0         1   \n",
       "3                         2299.0    5888             1         1   \n",
       "4                         1847.0     289             0         1   \n",
       "\n",
       "   loan_income_ratio  \n",
       "0           2.916667  \n",
       "1           3.122807  \n",
       "2           2.432836  \n",
       "3           1.476190  \n",
       "4           4.295775  \n",
       "\n",
       "[5 rows x 24 columns]"
      ]
     },
     "execution_count": 5,
     "metadata": {},
     "output_type": "execute_result"
    }
   ],
   "source": [
    "from sklearn.preprocessing import OneHotEncoder, LabelEncoder\n",
    "le = LabelEncoder()\n",
    "train['co_applicant'] = le.fit_transform(train['co_applicant'])\n",
    "train.head()"
   ]
  },
  {
   "cell_type": "markdown",
   "metadata": {},
   "source": [
    "### Train Test Split"
   ]
  },
  {
   "cell_type": "code",
   "execution_count": 6,
   "metadata": {},
   "outputs": [],
   "source": [
    "from sklearn.model_selection import train_test_split\n",
    "\n",
    "# target\n",
    "#y = train.pop('accepted')\n",
    "\n",
    "# target with dropped values\n",
    "y = train.pop('accepted').drop(columns=['row_id', 'occupancy', 'loan_type', 'applicant_sex', 'number_of_1_to_4_family_units', \n",
    "                                        'population', 'tract_to_msa_md_income_pct', 'applicant_ethnicity', 'number_of_owner-occupied_units',\n",
    "                                        'co_applicant', 'msa_md', 'state_code', 'ffiecmedian_family_income'])\n",
    "\n",
    "features = train\n",
    "\n",
    "# features\n",
    "X = features.values"
   ]
  },
  {
   "cell_type": "code",
   "execution_count": 7,
   "metadata": {},
   "outputs": [],
   "source": [
    "X_train, X_test, y_train, y_test = train_test_split(X, y, test_size = 0.2, random_state = 7)"
   ]
  },
  {
   "cell_type": "code",
   "execution_count": 8,
   "metadata": {},
   "outputs": [
    {
     "data": {
      "text/plain": [
       "((400000, 23), (100000, 23))"
      ]
     },
     "execution_count": 8,
     "metadata": {},
     "output_type": "execute_result"
    }
   ],
   "source": [
    "X_train.shape, X_test.shape"
   ]
  },
  {
   "cell_type": "markdown",
   "metadata": {},
   "source": [
    "### Scaling"
   ]
  },
  {
   "cell_type": "code",
   "execution_count": 9,
   "metadata": {},
   "outputs": [],
   "source": [
    "from sklearn.preprocessing import StandardScaler\n",
    "\n",
    "# fit the scaler based upon the training set\n",
    "scaler = StandardScaler().fit(X_train)\n",
    "\n",
    "# scale the train features array \n",
    "X_train = scaler.transform(X_train)\n",
    "\n",
    "# scale the test features array (based on the training fit)\n",
    "X_test = scaler.transform(X_test)"
   ]
  },
  {
   "cell_type": "code",
   "execution_count": 10,
   "metadata": {},
   "outputs": [
    {
     "name": "stdout",
     "output_type": "stream",
     "text": [
      "[ 1.37210005 -0.53006789 -0.20639017 -1.12519645  2.73471192  0.16107647\n",
      "  0.43341641  1.01368462  0.8294377  -0.44415196 -0.07037885 -2.71784098\n",
      " -0.68216568  1.2777048   0.26533192  1.61965151  2.42381895 -1.32017066\n",
      " -0.87834999 -0.35754723  1.37043465  1.2245599  -0.18104255]\n"
     ]
    }
   ],
   "source": [
    "print(X_train[0])"
   ]
  },
  {
   "cell_type": "markdown",
   "metadata": {},
   "source": [
    "### XGBoost"
   ]
  },
  {
   "cell_type": "code",
   "execution_count": 11,
   "metadata": {},
   "outputs": [
    {
     "name": "stdout",
     "output_type": "stream",
     "text": [
      "0.7585575\n"
     ]
    },
    {
     "name": "stderr",
     "output_type": "stream",
     "text": [
      "C:\\Users\\L.Spencer\\Anaconda3\\lib\\site-packages\\sklearn\\preprocessing\\label.py:151: DeprecationWarning: The truth value of an empty array is ambiguous. Returning False, but in future this will result in an error. Use `array.size > 0` to check that an array is not empty.\n",
      "  if diff:\n"
     ]
    }
   ],
   "source": [
    "# build and fit xgb\n",
    "xgb = xgboost.XGBClassifier(objective = 'binary:hinge', eval_metric='error', min_child_weight = 6, max_depth = 10, min_samples_split = 2, min_samples_leaf=50, n_estimators = 500, random_state = 50, n_jobs=-1)\n",
    "xgb = xgb.fit(X_train, y_train)\n",
    "\n",
    "# print the xgb score \n",
    "print(xgb.score(X_train, y_train))"
   ]
  },
  {
   "cell_type": "code",
   "execution_count": 14,
   "metadata": {},
   "outputs": [
    {
     "name": "stderr",
     "output_type": "stream",
     "text": [
      "C:\\Users\\L.Spencer\\Anaconda3\\lib\\site-packages\\sklearn\\preprocessing\\label.py:151: DeprecationWarning: The truth value of an empty array is ambiguous. Returning False, but in future this will result in an error. Use `array.size > 0` to check that an array is not empty.\n",
      "  if diff:\n"
     ]
    },
    {
     "data": {
      "text/plain": [
       "0.70667"
      ]
     },
     "execution_count": 14,
     "metadata": {},
     "output_type": "execute_result"
    }
   ],
   "source": [
    "# apply the model to the test set and output score\n",
    "xgb.score(X_test, y_test)"
   ]
  },
  {
   "cell_type": "code",
   "execution_count": 15,
   "metadata": {},
   "outputs": [],
   "source": [
    "# xgb feature importances\n",
    "xgb_feature_importances = xgb.feature_importances_"
   ]
  },
  {
   "cell_type": "code",
   "execution_count": 16,
   "metadata": {},
   "outputs": [
    {
     "name": "stdout",
     "output_type": "stream",
     "text": [
      "Feature importances out of 23 total features\n"
     ]
    },
    {
     "data": {
      "image/png": "[encoded data removed]",
      "text/plain": [
       "<Figure size 864x360 with 1 Axes>"
      ]
     },
     "metadata": {},
     "output_type": "display_data"
    }
   ],
   "source": [
    "feature_importances = pd.Series(xgb_feature_importances, index = features.columns)\n",
    "n_features = (feature_importances>0).sum()\n",
    "feature_importances.sort_values().tail(30).plot(kind=\"barh\", edgecolor=\"black\", color=\"#1F77B4\", figsize=(12,5));\n",
    "print(\"Feature importances out of \" + str(n_features) + \" total features\")"
   ]
  },
  {
   "cell_type": "markdown",
   "metadata": {},
   "source": [
    "### Random Forest Classifier"
   ]
  },
  {
   "cell_type": "code",
   "execution_count": null,
   "metadata": {},
   "outputs": [],
   "source": [
    "from sklearn.ensemble import RandomForestClassifier\n",
    "\n",
    "# build and fit the random forest classifer (rfc)\n",
    "rfc = RandomForestClassifier(max_depth = 20, min_samples_split = 2, min_samples_leaf=50, n_estimators = 500, random_state = 50, n_jobs=-1)\n",
    "forest = rfc.fit(X_train, y_train)\n",
    "\n",
    "# print the score of the fitted random forest classifier\n",
    "print(forest.score(X_train, y_train))"
   ]
  },
  {
   "cell_type": "code",
   "execution_count": null,
   "metadata": {},
   "outputs": [],
   "source": [
    "# apply the model to the test set and output score\n",
    "forest.score(X_test, y_test)"
   ]
  },
  {
   "cell_type": "code",
   "execution_count": null,
   "metadata": {},
   "outputs": [],
   "source": [
    "# random forest feature importances\n",
    "rfr_feature_importances = forest.feature_importances_"
   ]
  },
  {
   "cell_type": "code",
   "execution_count": null,
   "metadata": {},
   "outputs": [],
   "source": [
    "feature_importances = pd.Series(rfr_feature_importances, index = features.columns)\n",
    "n_features = (feature_importances>0).sum()\n",
    "feature_importances.sort_values().tail(30).plot(kind=\"barh\", edgecolor=\"black\", color=\"#1F77B4\", figsize=(12,5));\n",
    "print(\"Feature importances out of \" + str(n_features) + \" total features\")"
   ]
  },
  {
   "cell_type": "markdown",
   "metadata": {},
   "source": [
    "### Cross Validation"
   ]
  },
  {
   "cell_type": "code",
   "execution_count": null,
   "metadata": {},
   "outputs": [],
   "source": [
    "# pass all the data to cross validation, as k-folds will split the data\n",
    "from sklearn.model_selection import cross_val_score\n",
    "cv = cross_val_score(xgb, X, y, cv=5)\n",
    "print(cv)\n",
    "print(\"Accuracy: \" + str(round(cv.mean() * 100,2)) + \"%\")\n",
    "print(\"Variance: \" + str(round(cv.std() * 100,2)) + \"% (+/-)\")"
   ]
  },
  {
   "cell_type": "markdown",
   "metadata": {},
   "source": [
    "### Prepare Test Dataset"
   ]
  },
  {
   "cell_type": "code",
   "execution_count": null,
   "metadata": {},
   "outputs": [],
   "source": [
    "test = pd.read_csv(\"test_values.csv\")"
   ]
  },
  {
   "cell_type": "code",
   "execution_count": null,
   "metadata": {},
   "outputs": [],
   "source": [
    "# fill missing values\n",
    "test.fillna(train.median(), inplace=True)\n",
    "test.describe()"
   ]
  },
  {
   "cell_type": "code",
   "execution_count": null,
   "metadata": {},
   "outputs": [],
   "source": [
    "# add loan_income_ratio\n",
    "test['loan_income_ratio'] = test['loan_amount'] / test['applicant_income']"
   ]
  },
  {
   "cell_type": "code",
   "execution_count": null,
   "metadata": {},
   "outputs": [],
   "source": [
    "# encode co-applicant\n",
    "le = LabelEncoder()\n",
    "test['co_applicant'] = le.fit_transform(test['co_applicant'])"
   ]
  },
  {
   "cell_type": "code",
   "execution_count": null,
   "metadata": {},
   "outputs": [],
   "source": [
    "# extract test features\n",
    "test_features = test.drop(columns=['row_id', 'occupancy', 'loan_type', 'applicant_sex', 'number_of_1_to_4_family_units', 'population', 'tract_to_msa_md_income_pct',\n",
    "                              'applicant_ethnicity', 'number_of_owner-occupied_units', 'co_applicant', 'msa_md'])"
   ]
  },
  {
   "cell_type": "code",
   "execution_count": null,
   "metadata": {},
   "outputs": [],
   "source": [
    "# scale test data\n",
    "\n",
    "# fit the scaler based upon the training set\n",
    "scaler = StandardScaler().fit(features)\n",
    "\n",
    "# scale the train features array \n",
    "test_features = scaler.transform(test_features)"
   ]
  },
  {
   "cell_type": "markdown",
   "metadata": {},
   "source": [
    "### Prediction"
   ]
  },
  {
   "cell_type": "code",
   "execution_count": null,
   "metadata": {},
   "outputs": [],
   "source": [
    "# predicting on the \"test\" dataset, where sale price is unknown\n",
    "predict = xgb.predict(test_features)\n",
    "\n",
    "print(predict)"
   ]
  },
  {
   "cell_type": "code",
   "execution_count": null,
   "metadata": {},
   "outputs": [],
   "source": [
    "output = pd.DataFrame()\n",
    "output['row_id'] = y_labels['row_id']\n",
    "output['accepted'] = predict"
   ]
  },
  {
   "cell_type": "code",
   "execution_count": null,
   "metadata": {},
   "outputs": [],
   "source": [
    "#output.to_csv(\"submission1.csv\", index=False)"
   ]
  },
  {
   "cell_type": "code",
   "execution_count": null,
   "metadata": {},
   "outputs": [],
   "source": []
  }
 ],
 "metadata": {
  "kernelspec": {
   "display_name": "Python 3",
   "language": "python",
   "name": "python3"
  },
  "language_info": {
   "codemirror_mode": {
    "name": "ipython",
    "version": 3
   },
   "file_extension": ".py",
   "mimetype": "text/x-python",
   "name": "python",
   "nbconvert_exporter": "python",
   "pygments_lexer": "ipython3",
   "version": "3.6.5"
  }
 },
 "nbformat": 4,
 "nbformat_minor": 2
}
